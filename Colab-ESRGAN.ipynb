{
  "nbformat": 4,
  "nbformat_minor": 0,
  "metadata": {
    "colab": {
      "name": "Colab-ESRGAN.ipynb",
      "private_outputs": true,
      "provenance": [],
      "collapsed_sections": [
        "07qhXOj6Np2w",
        "Vc-TQoDgVny5",
        "uDMtoHBfvHmi",
        "vWD8ix4owA9_"
      ],
      "toc_visible": true
    },
    "kernelspec": {
      "name": "python3",
      "display_name": "Python 3"
    },
    "accelerator": "GPU"
  },
  "cells": [
    {
      "cell_type": "markdown",
      "metadata": {
        "id": "T3wGB80dBZMe"
      },
      "source": [
        "# Colab-ESRGAN\n",
        "\n",
        "**WARNING FOR USERS: IF YOU WANT TO SWITCH BETWEEN ATA4 (OLD USED CODE) AND JOEY, DELETE ``Colab-ESRGAN`` FROM GOOGLE DRIVE AND REDOWNLOAD. IF YOU USED COLAB IN THE PAST AND WANT TO SWITCH TO JOEY, ALSO REDOWNLOAD CODE.**\n",
        "\n",
        "Original Colab file created by shahidul56 can be found [here](https://github.com/xinntao/ESRGAN/pull/22) and [here](https://colab.research.google.com/github/shahidul56/ESRGAN/blob/master/ESRGAN.ipynb). This also uses modifications from [here](https://github.com/ata4/esrgan-launcher). Big thanks to [ata4](https://github.com/ata4) and [JoeyBallentine](https://github.com/JoeyBallentine).\n",
        "\n",
        "This is a gigantic modification by ```styler00dollar``` aka ```sudo rm -rf / --no-preserve-root#8353``` on discord. Compared to the original notebook, this notebook does:\n",
        "- use [esrgan-launcher by ata4](https://github.com/ata4/esrgan-launcher) or [Joeys version](https://github.com/JoeyBallentine/ESRGAN)\n",
        "  - can use old and new arch\n",
        "  - have compatibility with different scales (automatic detection)\n",
        "  - (Joey) supports differently sized models\n",
        "  - (Joey) even further improved alpha handling\n",
        "- include less gdrive code (only 1 authorization code instead of 2)\n",
        "\n",
        "ESRGAN tutorials and custom models can be found in this [wiki page](https://upscale.wiki/wiki/Main_Page).\n",
        "\n",
        "I personally recommend [fatal anime](https://de-next.owncube.com/index.php/s/x99pKzS7TNaErrC), [fatal pixels](https://de-next.owncube.com/index.php/s/mDGmi7NgdyyQRXL) and [YandereNeo](https://icedrive.net/1/f0UAiRqz3N) for drawn art.\n",
        "\n",
        "I also included a [1x DeJPEG model for jpg compression](https://de-next.owncube.com/index.php/s/w82HLrLWmWi4SQ5). Also made by twittman.\n",
        "\n",
        "Here an [imgur example with fatal pixels](https://imgur.com/a/Eeirogg) and [here one with fatal anime](https://imgur.com/a/yhA21GC). Currently too lazy to do a proper comparison.\n",
        "\n",
        "----------------------------------------------------------------\n",
        "\n",
        "Brief Google Colab instructions:\n",
        "- Run cells with these play-buttons that are visible on the left side of the code/text. ```[ ]``` indicate a play-button. Or press ```shift + enter``` while you are inside a cell.\n",
        "- Run the needed cells in the correct order. (up to down)\n",
        "- Follow the provided instructions in these commands.\n",
        "- You don't need to change anything. The only thing that probably needs to be changed are the parameter for the main.py file. Examples are provided.\n",
        "\n",
        "\n",
        "**Warning: The notebook is split in two independent parts, which are also split into 2 parts. Pick one of these 4 options.** One that works with Google Drive and one that works locally on Colab. If you have many files, then it is recommended to run ESRGAN within Colab and to transfer images with one .tar/.tar.gz archive. Just use either \"Google Drive Code with individual transfer of images\" or \"Running ESRGAN within Colab and transferring data with archives\" **after** mounting gdrive."
      ]
    },
    {
      "cell_type": "code",
      "metadata": {
        "id": "--dIWjjM-4-w",
        "cellView": "form"
      },
      "source": [
        "#@title Check your GPU and your VRAM\n",
        "!nvidia-smi"
      ],
      "execution_count": null,
      "outputs": []
    },
    {
      "cell_type": "code",
      "metadata": {
        "id": "7wPj3OqiHkd3",
        "cellView": "form"
      },
      "source": [
        "#@title Mount Google Drive\n",
        "from google.colab import drive\n",
        "drive.mount('/content/drive')\n",
        "print('Google Drive connected.')"
      ],
      "execution_count": null,
      "outputs": []
    },
    {
      "cell_type": "markdown",
      "metadata": {
        "id": "gqLtTIwSSbnw"
      },
      "source": [
        "-----------------------------------------------"
      ]
    },
    {
      "cell_type": "markdown",
      "metadata": {
        "id": "07qhXOj6Np2w"
      },
      "source": [
        "# [(Joey)](https://github.com/JoeyBallentine/ESRGAN) Running ESRGAN within Colab and transferring data with archives\n",
        "\n",
        "If you plan on upscaling many files, this is the better choice.\n",
        "\n",
        "Put your ```data.tar/.tar.gz``` file in ```/Google Drive/ESRGAN/input/```. The result will be in  ```/Google Drive/ESRGAN/output/```\n",
        "\n",
        "You can comment out wget commands for faster speed.\n"
      ]
    },
    {
      "cell_type": "code",
      "metadata": {
        "id": "5utsD9oUNwds"
      },
      "source": [
        "#@title Download and install stuff\n",
        "%cd /content/\n",
        "!pip install tqdm\n",
        "!pip install typer\n",
        "!pip install rich\n",
        "!git clone https://github.com/JoeyBallentine/ESRGAN Colab-ESRGAN\n",
        "!mkdir /content/Colab-ESRGAN/models/\n",
        "!wget --no-check-certificate 'https://docs.google.com/uc?export=download&id=1MJFgqXJrMkPdKtiuy7C6xfsU1QIbXEb-' -O /content/Colab-ESRGAN/models/RRDB_ESRGAN_x4.pth\n",
        "!wget --no-check-certificate 'https://docs.google.com/uc?export=download&id=1mSJ6Z40weL-dnPvi390xDd3uZBCFMeqr' -O /content/Colab-ESRGAN/models/RRDB_PSNR_x4.pth\n",
        "!wget --no-check-certificate \"https://de-next.owncube.com/index.php/s/mDGmi7NgdyyQRXL/download?path=%2F&files=4x_FatalPixels_340000_G.pth&downloadStartSecret=r4q3aw60ijm\" -O /content/Colab-ESRGAN/models/4x_FatalPixels_340000_G.pth\n",
        "!wget --no-check-certificate \"https://de-next.owncube.com/index.php/s/x99pKzS7TNaErrC/download\" -O /content/Colab-ESRGAN/models/4x_fatal_Anime_500000_G.pth\n",
        "!wget --no-check-certificate \"https://de-next.owncube.com/index.php/s/w82HLrLWmWi4SQ5/download\" -O /content/Colab-ESRGAN/models/1x_DeJpeg_Fatality_PlusULTRA_200000_G.pth\n",
        "!gdown --id 14lA-Ks5quxheNyVeXRvzeoSAOm6ISDHn -O \"/content/Colab-ESRGAN/models/4x_NMKD-YandereNeo-Lite_320k.pth\"\n",
        "!mkdir /content/Colab-ESRGAN/input/\n",
        "!mkdir /content/Colab-ESRGAN/output/\n",
        "%cd  /content/Colab-ESRGAN/\n",
        "!sudo rm -rf /content/Colab-ESRGAN/input\n",
        "!mkdir /content/Colab-ESRGAN/input\n",
        "!sudo rm -rf /content/Colab-ESRGAN/output\n",
        "!mkdir /content/Colab-ESRGAN/output"
      ],
      "execution_count": null,
      "outputs": []
    },
    {
      "cell_type": "markdown",
      "metadata": {
        "id": "nEEwG-ayUb1n"
      },
      "source": [
        "If you want to use the 7z GUI, here is how you do it. With the 7z GUI you can create a .tar, then create a new archive with only that file and select \"gzip\". You need to create an archive twice. The final file should be data.tar.gz. You can change between .tar/.tar.gz in the paths. If .tar.gz is used, then compression is applied."
      ]
    },
    {
      "cell_type": "code",
      "metadata": {
        "cellView": "form",
        "id": "RbzfSkTkUfZ8"
      },
      "source": [
        "#@title Downloading ```data.tar.gz``` from Google Drive and extracting it.\n",
        "!cp \"/content/drive/My Drive/Colab-ESRGAN/input/data.tar.gz\" /content/Colab-ESRGAN/input/data.tar.gz\n",
        "!tar -C /content/Colab-ESRGAN/input/ -zxvf /content/Colab-ESRGAN/input/data.tar.gz\n",
        "!sudo rm -rf /content/Colab-ESRGAN/input/data.tar.gz\n",
        "%cd /content/Colab-ESRGAN"
      ],
      "execution_count": null,
      "outputs": []
    },
    {
      "cell_type": "code",
      "metadata": {
        "cellView": "form",
        "id": "9NfW9zT-Upzf"
      },
      "source": [
        "#@title Downloading ```data.tar``` from Google Drive and extracting it.\n",
        "!cp \"/content/drive/My Drive/Colab-ESRGAN/input/data.tar\" /content/Colab-ESRGAN/input/data.tar\n",
        "!tar -C /content/ESRGAN/input -xvf /content/Colab-ESRGAN/input/data.tar\n",
        "!sudo rm -rf /content/Colab-ESRGAN/input/data.tar"
      ],
      "execution_count": null,
      "outputs": []
    },
    {
      "cell_type": "code",
      "metadata": {
        "id": "wM7pkAw2Diq2"
      },
      "source": [
        "# test with one model\n",
        "!python upscale.py 4x_NMKD-YandereNeo-Lite_320k.pth --input input/ --output output/"
      ],
      "execution_count": null,
      "outputs": []
    },
    {
      "cell_type": "code",
      "metadata": {
        "id": "R8C3uL3-coOo"
      },
      "source": [
        "# test with chaining\n",
        "!python upscale.py \"4x_NMKD-YandereNeo-Lite_320k.pth>4x_fatal_Anime_500000_G.pth\" --input input/ --output output/"
      ],
      "execution_count": null,
      "outputs": []
    },
    {
      "cell_type": "code",
      "metadata": {
        "id": "aI3TFk1KRE37"
      },
      "source": [
        "# on the fly interpolation\n",
        "!python upscale.py \"4x_FatalPixels_340000_G.pth@50|4x_fatal_Anime_500000_G.pth@50\" --input input/ --output output/"
      ],
      "execution_count": null,
      "outputs": []
    },
    {
      "cell_type": "markdown",
      "metadata": {
        "id": "dPnw06LwRTUW"
      },
      "source": [
        "Other interesting parameter:\n",
        "```\n",
        "--seamless ['tile', 'mirror', 'replicate', 'alpha_pad']\n",
        "   Helps seamlessly upscale an image. \n",
        "   Tile = repeating along edges. \n",
        "   Mirror = reflected along edges. \n",
        "   Replicate = extended pixels along edges.\n",
        "   Alpha pad = extended alpha border.\n",
        "\n",
        "--alpha_mode 1-3\n",
        "   Type of alpha processing to use. 0 is no alpha processing.\n",
        "   1 is BA's difference method. \n",
        "   2 is upscaling the alpha channel separately (like IEU).\n",
        "   3 is swapping an existing channel with the alpha channel\n",
        "\n",
        "--skip_existing\n",
        "```"
      ]
    },
    {
      "cell_type": "markdown",
      "metadata": {
        "id": "2aKxNlfJTfmO"
      },
      "source": [
        "A few options to reduce filesize."
      ]
    },
    {
      "cell_type": "code",
      "metadata": {
        "cellView": "form",
        "id": "BZUegluhZEJG"
      },
      "source": [
        "#@title download/install oxipng and imagemagick\n",
        "!wget \"https://github.com/shssoichiro/oxipng/releases/download/v4.0.3/oxipng-4.0.3-x86_64-unknown-linux-musl.tar.gz\"\n",
        "!7z x /content/oxipng-4.0.3-x86_64-unknown-linux-musl.tar.gz\n",
        "!7z x /content/oxipng-4.0.3-x86_64-unknown-linux-musl.tar\n",
        "!chmod +x /content/oxipng-4.0.3-x86_64-unknown-linux-musl/oxipng\n",
        "\n",
        "!sudo apt-get install imagemagick"
      ],
      "execution_count": null,
      "outputs": []
    },
    {
      "cell_type": "code",
      "metadata": {
        "id": "Sjr1o0MEWqPF",
        "cellView": "form"
      },
      "source": [
        "#@title resize pictures\n",
        "!find /content/Colab-ESRGAN/output -name '*.png' -exec mogrify -resize 50% {} +"
      ],
      "execution_count": null,
      "outputs": []
    },
    {
      "cell_type": "code",
      "metadata": {
        "id": "hZjAO0p1Wqm_",
        "cellView": "form"
      },
      "source": [
        "#@title making output losslessly smaller with oxipng\n",
        "!find /content/Colab-ESRGAN/output -name '*.png' -exec /content/oxipng-4.0.3-x86_64-unknown-linux-musl/oxipng -o 4 --strip all {} +"
      ],
      "execution_count": null,
      "outputs": []
    },
    {
      "cell_type": "markdown",
      "metadata": {
        "id": "wNinxhYPa2xz"
      },
      "source": [
        "Copy data back"
      ]
    },
    {
      "cell_type": "code",
      "metadata": {
        "cellView": "form",
        "id": "eP7ZRbxmUNQ0"
      },
      "source": [
        "#@title Create archive and copy back archive to Google Drive\n",
        "!mkdir \"/content/drive/My Drive/Colab-ESRGAN/output\"\n",
        "!tar -cvf /content/output.tar.gz /content/Colab-ESRGAN/output\n",
        "!cp /content/output.tar.gz \"/content/drive/My Drive/Colab-ESRGAN/output/output.tar.gz\""
      ],
      "execution_count": null,
      "outputs": []
    },
    {
      "cell_type": "markdown",
      "metadata": {
        "id": "Vc-TQoDgVny5"
      },
      "source": [
        "# [(Joey)](https://github.com/JoeyBallentine/ESRGAN) Google Drive Code with individual transfer of images"
      ]
    },
    {
      "cell_type": "code",
      "metadata": {
        "id": "lKaLwKHZVx-e",
        "cellView": "form"
      },
      "source": [
        "#@title Download stuff ```(Run this once. Running this while you already have a folder named ESRGAN in your Google Drive will give you an error.)```\n",
        "!pip install typer\n",
        "!pip install rich\n",
        "%cd \"/content/drive/My Drive\"\n",
        "!git clone https://github.com/JoeyBallentine/ESRGAN Colab-ESRGAN\n",
        "!mkdir \"/content/drive/My Drive/Colab-ESRGAN/input/\"\n",
        "!mkdir \"/content/drive/My Drive/Colab-ESRGAN/output/\"\n",
        "!mkdir \"/content/drive/My Drive/Colab-ESRGAN/models/\"\n",
        "%cd \"/content/drive/My Drive/Colab-ESRGAN\""
      ],
      "execution_count": null,
      "outputs": []
    },
    {
      "cell_type": "markdown",
      "metadata": {
        "id": "mC4E3BoIV4sv"
      },
      "source": [
        "You can use these 2 boxes to download models directly into your Google Drive. You can either add code or add models manually, by adding models into ```Google Drive/ESRGAN/models```. If you plan on doing so, then you need to specify the correct model in the last command. ```Run the following cells once, if you want to have these models in your drive.```"
      ]
    },
    {
      "cell_type": "code",
      "metadata": {
        "id": "50wGEJWwV7h-",
        "cellView": "form"
      },
      "source": [
        "#@title Download ESRGANx4 and PSNRx4\n",
        "%cd \"/content/drive/My Drive/Colab-ESRGAN\"\n",
        "!wget --no-check-certificate 'https://docs.google.com/uc?export=download&id=1MJFgqXJrMkPdKtiuy7C6xfsU1QIbXEb-' -O models/RRDB_ESRGAN_x4.pth\n",
        "!wget --no-check-certificate 'https://docs.google.com/uc?export=download&id=1mSJ6Z40weL-dnPvi390xDd3uZBCFMeqr' -O models/RRDB_PSNR_x4.pth"
      ],
      "execution_count": null,
      "outputs": []
    },
    {
      "cell_type": "code",
      "metadata": {
        "id": "1SztQDdgV72m",
        "cellView": "form"
      },
      "source": [
        "#@title Downlaod fatal_anime (Model by twittman)\n",
        "%cd \"/content/drive/My Drive/Colab-ESRGAN\"\n",
        "!wget --no-check-certificate \"https://de-next.owncube.com/index.php/s/x99pKzS7TNaErrC/download\" -O models/4x_fatal_Anime_500000_G.pth"
      ],
      "execution_count": null,
      "outputs": []
    },
    {
      "cell_type": "code",
      "metadata": {
        "id": "40xQFusJV8B8",
        "cellView": "form"
      },
      "source": [
        "#@title Downlaod fatal_pixels (Model by twittman)\n",
        "%cd \"/content/drive/My Drive/Colab-ESRGAN\"\n",
        "!wget --no-check-certificate \"https://de-next.owncube.com/index.php/s/mDGmi7NgdyyQRXL/download?path=%2F&files=4x_FatalPixels_340000_G.pth&downloadStartSecret=r4q3aw60ijm\" -O models/4x_FatalPixels_340000_G.pth"
      ],
      "execution_count": null,
      "outputs": []
    },
    {
      "cell_type": "code",
      "metadata": {
        "id": "7h6OKHf7V8K0",
        "cellView": "form"
      },
      "source": [
        "#@title Download deJpeg_Fatality_PlusULTRA (Model by twittman)\n",
        "%cd \"/content/drive/My Drive/Colab-ESRGAN\"\n",
        "!wget --no-check-certificate \"https://de-next.owncube.com/index.php/s/w82HLrLWmWi4SQ5/download\" -O models/1x_DeJpeg_Fatality_PlusULTRA_200000_G.pth"
      ],
      "execution_count": null,
      "outputs": []
    },
    {
      "cell_type": "code",
      "metadata": {
        "id": "YZJTLUxiegHO",
        "cellView": "form"
      },
      "source": [
        "#@title Download 4x_NMKD-YandereNeo-Lite_320k (Model by nmkd)\n",
        "!gdown --id 14lA-Ks5quxheNyVeXRvzeoSAOm6ISDHn -O \"/content/drive/My Drive/Colab-ESRGAN/models/4x_NMKD-YandereNeo-Lite_320k.pth\""
      ],
      "execution_count": null,
      "outputs": []
    },
    {
      "cell_type": "code",
      "metadata": {
        "id": "YKjBIHn8W4OR"
      },
      "source": [
        "# test with one model\n",
        "%cd \"/content/drive/My Drive/Colab-ESRGAN\"\n",
        "!python upscale.py 4x_NMKD-YandereNeo-Lite_320k.pth --input input/ --output output/"
      ],
      "execution_count": null,
      "outputs": []
    },
    {
      "cell_type": "code",
      "metadata": {
        "id": "FZ7DVHFRW54k"
      },
      "source": [
        "# test with chaining\n",
        "%cd \"/content/drive/My Drive/Colab-ESRGAN\"\n",
        "!python upscale.py \"4x_NMKD-YandereNeo-Lite_320k.pth>4x_fatal_Anime_500000_G.pth\" --input input/ --output output/"
      ],
      "execution_count": null,
      "outputs": []
    },
    {
      "cell_type": "code",
      "metadata": {
        "id": "7vK64AViezQN"
      },
      "source": [
        "# on the fly interpolation\n",
        "%cd \"/content/drive/My Drive/Colab-ESRGAN\"\n",
        "!python upscale.py \"4x_FatalPixels_340000_G.pth@50|4x_fatal_Anime_500000_G.pth@50\" --input input/ --output output/"
      ],
      "execution_count": null,
      "outputs": []
    },
    {
      "cell_type": "markdown",
      "metadata": {
        "id": "lvPwUny2W8X7"
      },
      "source": [
        "Other interesting parameter:\n",
        "```\n",
        "--seamless ['tile', 'mirror', 'replicate', 'alpha_pad']\n",
        "   Helps seamlessly upscale an image. \n",
        "   Tile = repeating along edges. \n",
        "   Mirror = reflected along edges. \n",
        "   Replicate = extended pixels along edges.\n",
        "   Alpha pad = extended alpha border.\n",
        "\n",
        "--alpha_mode 1-3\n",
        "   Type of alpha processing to use. 0 is no alpha processing.\n",
        "   1 is BA's difference method. \n",
        "   2 is upscaling the alpha channel separately (like IEU).\n",
        "   3 is swapping an existing channel with the alpha channel\n",
        "\n",
        "--skip_existing\n",
        "```"
      ]
    },
    {
      "cell_type": "markdown",
      "metadata": {
        "id": "NInoaP1TW__s"
      },
      "source": [
        "A few options to reduce filesize."
      ]
    },
    {
      "cell_type": "code",
      "metadata": {
        "id": "cSWujZWfXMTZ",
        "cellView": "form"
      },
      "source": [
        "#@title download/install oxipng and imagemagick\n",
        "!wget \"https://github.com/shssoichiro/oxipng/releases/download/v4.0.3/oxipng-4.0.3-x86_64-unknown-linux-musl.tar.gz\"\n",
        "!7z x /content/oxipng-4.0.3-x86_64-unknown-linux-musl.tar.gz\n",
        "!7z x /content/oxipng-4.0.3-x86_64-unknown-linux-musl.tar\n",
        "!chmod +x /content/oxipng-4.0.3-x86_64-unknown-linux-musl/oxipng\n",
        "\n",
        "!sudo apt-get install imagemagick"
      ],
      "execution_count": null,
      "outputs": []
    },
    {
      "cell_type": "code",
      "metadata": {
        "id": "BT_6bks6XH6E",
        "cellView": "form"
      },
      "source": [
        "#@title Resize pictures in results in ```/output```\n",
        "!find \"/content/drive/My Drive/Colab-ESRGAN/output\" -name '*.png' -exec mogrify -resize 50% {} +"
      ],
      "execution_count": null,
      "outputs": []
    },
    {
      "cell_type": "code",
      "metadata": {
        "id": "ectARsP8XKeY",
        "cellView": "form"
      },
      "source": [
        "#@title making ```/output``` losslessly smaller with oxipng\n",
        "!find /content/Colab-ESRGAN/output -name '*.png' -exec /content/oxipng-4.0.3-x86_64-unknown-linux-musl/oxipng -o 4 --strip all {} +"
      ],
      "execution_count": null,
      "outputs": []
    },
    {
      "cell_type": "markdown",
      "metadata": {
        "id": "V2ERUB7ceU9a"
      },
      "source": [
        "The final result will be in ```/Google Drive/ESRGAN/results```. You can change between .tar/.tar.gz in the last two lines. If .tar.gz is used, then compression is applied."
      ]
    },
    {
      "cell_type": "code",
      "metadata": {
        "cellView": "form",
        "id": "SmBDiJrceXo5"
      },
      "source": [
        "#@title Create archive and copy back archive to Google Drive\n",
        "!mkdir \"/content/drive/My Drive/Colab-ESRGAN/output\"\n",
        "!tar -cvf /content/output.tar.gz /content/Colab-ESRGAN/output\n",
        "!cp /content/output.tar.gz \"/content/drive/My Drive/Colab-ESRGAN/output/output.tar.gz\""
      ],
      "execution_count": null,
      "outputs": []
    },
    {
      "cell_type": "markdown",
      "metadata": {
        "id": "Ke3-TIUASVGK"
      },
      "source": [
        "-----------------------------------------------\n",
        "# Depricated alternative\n",
        "\n",
        "It still works, but certain models (different size than the original one) won't work. Also a few less features."
      ]
    },
    {
      "cell_type": "markdown",
      "metadata": {
        "id": "uDMtoHBfvHmi"
      },
      "source": [
        "# [(ata4)](https://github.com/ata4/esrgan-launcher) Google Drive Code with individual transfer of images"
      ]
    },
    {
      "cell_type": "code",
      "metadata": {
        "id": "k1ACFjBbrwz0",
        "cellView": "form"
      },
      "source": [
        "#@title Download stuff ```(Run this once. Running this while you already have a folder named ESRGAN in your Google Drive will give you an error.)```\n",
        "\n",
        "%cd \"/content/drive/My Drive\"\n",
        "!git clone https://github.com/styler00dollar/Colab-ESRGAN.git\n",
        "!mkdir \"/content/drive/My Drive/Colab-ESRGAN/input/\"\n",
        "!mkdir \"/content/drive/My Drive/Colab-ESRGAN/output/\"\n",
        "!mkdir \"/content/drive/My Drive/Colab-ESRGAN/models/\"\n",
        "%cd \"/content/drive/My Drive/Colab-ESRGAN\""
      ],
      "execution_count": null,
      "outputs": []
    },
    {
      "cell_type": "markdown",
      "metadata": {
        "id": "i_XJiZRbL5uI"
      },
      "source": [
        "You can use these 2 boxes to download models directly into your Google Drive. You can either add code or add models manually, by adding models into ```Google Drive/ESRGAN/models```. If you plan on doing so, then you need to specify the correct model in the last command. ```Run the following cells once, if you want to have these models in your drive.```"
      ]
    },
    {
      "cell_type": "code",
      "metadata": {
        "id": "Zj2N-IHX67Ln",
        "cellView": "form"
      },
      "source": [
        "#@title Download ESRGANx4 and PSNRx4\n",
        "%cd \"/content/drive/My Drive/Colab-ESRGAN\"\n",
        "!wget --no-check-certificate 'https://docs.google.com/uc?export=download&id=1MJFgqXJrMkPdKtiuy7C6xfsU1QIbXEb-' -O models/RRDB_ESRGAN_x4.pth\n",
        "!wget --no-check-certificate 'https://docs.google.com/uc?export=download&id=1mSJ6Z40weL-dnPvi390xDd3uZBCFMeqr' -O models/RRDB_PSNR_x4.pth"
      ],
      "execution_count": null,
      "outputs": []
    },
    {
      "cell_type": "code",
      "metadata": {
        "id": "ZjtcywTW0dKy",
        "cellView": "form"
      },
      "source": [
        "#@title Downlaod fatal_anime (Model by twittman)\n",
        "%cd \"/content/drive/My Drive/Colab-ESRGAN\"\n",
        "!wget --no-check-certificate \"https://de-next.owncube.com/index.php/s/x99pKzS7TNaErrC/download\" -O models/4x_fatal_Anime_500000_G.pth"
      ],
      "execution_count": null,
      "outputs": []
    },
    {
      "cell_type": "code",
      "metadata": {
        "id": "Irj6v_VBrEAW",
        "cellView": "form"
      },
      "source": [
        "#@title Downlaod fatal_pixels (Model by twittman)\n",
        "%cd \"/content/drive/My Drive/Colab-ESRGAN\"\n",
        "!wget --no-check-certificate \"https://de-next.owncube.com/index.php/s/mDGmi7NgdyyQRXL/download?path=%2F&files=4x_FatalPixels_340000_G.pth&downloadStartSecret=r4q3aw60ijm\" -O models/4x_FatalPixels_340000_G.pth"
      ],
      "execution_count": null,
      "outputs": []
    },
    {
      "cell_type": "code",
      "metadata": {
        "id": "W-M2MOEeEw9R",
        "cellView": "form"
      },
      "source": [
        "#@title Download deJpeg_Fatality_PlusULTRA (Model by twittman)\n",
        "%cd \"/content/drive/My Drive/Colab-ESRGAN\"\n",
        "!wget --no-check-certificate \"https://de-next.owncube.com/index.php/s/w82HLrLWmWi4SQ5/download\" -O models/1x_DeJpeg_Fatality_PlusULTRA_200000_G.pth"
      ],
      "execution_count": null,
      "outputs": []
    },
    {
      "cell_type": "code",
      "metadata": {
        "cellView": "form",
        "id": "y9IgL39XWGas"
      },
      "source": [
        "#@title install imagemagick and cargo/oxipng to make files smaller\n",
        "!sudo apt-get install imagemagick\n",
        "!sudo apt-get install -y cargo\n",
        "!cargo install oxipng"
      ],
      "execution_count": null,
      "outputs": []
    },
    {
      "cell_type": "code",
      "metadata": {
        "cellView": "form",
        "id": "fLq1baKdWIi-"
      },
      "source": [
        "#@title Resize pictures in results in ```/output```\n",
        "!find \"/content/drive/My Drive/Colab-ESRGAN/output\" -name '*.png' -exec mogrify -resize 50% {} +"
      ],
      "execution_count": null,
      "outputs": []
    },
    {
      "cell_type": "code",
      "metadata": {
        "id": "siEu9qiyWI22"
      },
      "source": [
        "#@title making ```/output``` losslessly smaller with oxipng\n",
        "!find /content/Colab-ESRGAN/output -name '*.png' -exec /content/oxipng-4.0.3-x86_64-unknown-linux-musl/oxipng -o 4 --strip all {} +"
      ],
      "execution_count": null,
      "outputs": []
    },
    {
      "cell_type": "markdown",
      "metadata": {
        "id": "APJmRf1PJ63q"
      },
      "source": [
        "```Important: Default tilesize is 512.```\n",
        "\n",
        "Available default models (if you downloaded them all):\n",
        "- RRDB_ESRGAN_x4.pth (old-arch)\n",
        "- RRDB_PSNR_x4.pth (old-arch)\n",
        "- 4x_FatalPixels_340000_G.pth\n",
        "- 4x_fatal_Anime_500000_G.pth\n",
        "- 1x_DeJpeg_Fatality_PlusULTRA_200000_G.pth"
      ]
    },
    {
      "cell_type": "code",
      "metadata": {
        "id": "4d0fQBqXNlBQ",
        "cellView": "form"
      },
      "source": [
        "#@title Install tqdm and %cd into folder\n",
        "!pip install tqdm\n",
        "%cd \"/content/drive/My Drive/Colab-ESRGAN\""
      ],
      "execution_count": null,
      "outputs": []
    },
    {
      "cell_type": "code",
      "metadata": {
        "id": "P331xaYjss1w"
      },
      "source": [
        "# example usage with 1x_DeJpeg_Fatality_PlusULTRA_200000_G.pth\n",
        "!python main.py input/ output/ --device cuda --model models/1x_DeJpeg_Fatality_PlusULTRA_200000_G.pth"
      ],
      "execution_count": null,
      "outputs": []
    },
    {
      "cell_type": "code",
      "metadata": {
        "id": "gdlVu92jbnUp"
      },
      "source": [
        "# example usage with custom tilesize\n",
        "# recommended tilesize for 16GB and 1x: --tilesize 1600\n",
        "# recommended tilesize for 16GB and 4x: --tilesize 2000\n",
        "!python main.py input/ output/ --device cuda --model models/1x_DeJpeg_Fatality_PlusULTRA_200000_G.pth --tilesize 600"
      ],
      "execution_count": null,
      "outputs": []
    },
    {
      "cell_type": "code",
      "metadata": {
        "id": "Z14u4E7p9rRp"
      },
      "source": [
        "# example for model interpolation\n",
        "# recommended tilesize for 16GB and an interpolated 4x model: --tilesize 2000\n",
        "!python main.py input/ output/ --device cuda --model models/4x_FatalPixels_340000_G.pth:25:models/4x_fatal_Anime_500000_G.pth:75"
      ],
      "execution_count": null,
      "outputs": []
    },
    {
      "cell_type": "code",
      "metadata": {
        "id": "9eYb-XSPBqQ5"
      },
      "source": [
        "# using 2 models at the same time (multiple output, not combined)\n",
        "# example usage with 1x_DeJpeg_Fatality_PlusULTRA_200000_G.pth and RRDB_ESRGAN_x4.pth\n",
        "# recommended tilesize for 16GB and 1x + 4x output: --tilesize 1600\n",
        "!python main.py input/ output/ --device cuda --model models/1x_DeJpeg_Fatality_PlusULTRA_200000_G.pth --model models/RRDB_ESRGAN_x4.pth"
      ],
      "execution_count": null,
      "outputs": []
    },
    {
      "cell_type": "code",
      "metadata": {
        "id": "LJ1bmwhIFEye"
      },
      "source": [
        "# example for model chaining\n",
        "# using 1x_DeJpeg_Fatality_PlusULTRA_200000_G.pth and then RRDB_ESRGAN_x4.pth\n",
        "# recommended tilesize for 16GB and 1x + 4x model chaining: --tilesize 1600\n",
        "!python main.py input output --device cuda --prefilter models/1x_DeJpeg_Fatality_PlusULTRA_200000_G.pth --model models/RRDB_ESRGAN_x4.pth"
      ],
      "execution_count": null,
      "outputs": []
    },
    {
      "cell_type": "code",
      "metadata": {
        "id": "aQa8JD4Tdesm",
        "cellView": "form"
      },
      "source": [
        "#@title download/install oxipng and imagemagick\n",
        "!wget \"https://github.com/shssoichiro/oxipng/releases/download/v4.0.3/oxipng-4.0.3-x86_64-unknown-linux-musl.tar.gz\"\n",
        "!7z x /content/oxipng-4.0.3-x86_64-unknown-linux-musl.tar.gz\n",
        "!7z x /content/oxipng-4.0.3-x86_64-unknown-linux-musl.tar\n",
        "!chmod +x /content/oxipng-4.0.3-x86_64-unknown-linux-musl/oxipng\n",
        "\n",
        "!sudo apt-get install imagemagick"
      ],
      "execution_count": null,
      "outputs": []
    },
    {
      "cell_type": "code",
      "metadata": {
        "id": "yF6rjw27dsKo",
        "cellView": "form"
      },
      "source": [
        "#@title Resize pictures in results in ```/output```\n",
        "!find \"/content/drive/My Drive/Colab-ESRGAN/output\" -name '*.png' -exec mogrify -resize 50% {} +"
      ],
      "execution_count": null,
      "outputs": []
    },
    {
      "cell_type": "code",
      "metadata": {
        "id": "W4XKw9m5duyk",
        "cellView": "form"
      },
      "source": [
        "#@title Making output losslessly smaller with oxipng in ```/output```\n",
        "!find \"/content/drive/My Drive/Colab-ESRGAN/output\" -name '*.png' -exec /content/oxipng-4.0.3-x86_64-unknown-linux-musl/oxipng -o 4 --strip all {} +"
      ],
      "execution_count": null,
      "outputs": []
    },
    {
      "cell_type": "markdown",
      "metadata": {
        "id": "vWD8ix4owA9_"
      },
      "source": [
        "# [(ata4)](https://github.com/ata4/esrgan-launcher) Running ESRGAN within Colab and transferring data with archives\n",
        "\n",
        "If you plan on upscaling many files, this is the better choice.\n",
        "\n",
        "Put your ```data.tar/.tar.gz``` file in ```/Google Drive/ESRGAN/input/```. The result will be in  ```/Google Drive/ESRGAN/output/```\n",
        "\n",
        "You can comment out wget commands for faster speed."
      ]
    },
    {
      "cell_type": "code",
      "metadata": {
        "id": "iE4Gm1RWwAgA",
        "cellView": "form"
      },
      "source": [
        "#@title Download and install stuff\n",
        "%cd /content/\n",
        "!pip install tqdm\n",
        "!git clone https://github.com/styler00dollar/Colab-ESRGAN.git\n",
        "!mkdir /content/Colab-ESRGAN/models/\n",
        "!wget --no-check-certificate 'https://docs.google.com/uc?export=download&id=1MJFgqXJrMkPdKtiuy7C6xfsU1QIbXEb-' -O /content/Colab-ESRGAN/models/RRDB_ESRGAN_x4.pth\n",
        "!wget --no-check-certificate 'https://docs.google.com/uc?export=download&id=1mSJ6Z40weL-dnPvi390xDd3uZBCFMeqr' -O /content/Colab-ESRGAN/models/RRDB_PSNR_x4.pth\n",
        "!wget --no-check-certificate \"https://de-next.owncube.com/index.php/s/mDGmi7NgdyyQRXL/download?path=%2F&files=4x_FatalPixels_340000_G.pth&downloadStartSecret=r4q3aw60ijm\" -O /content/Colab-ESRGAN/models/4x_FatalPixels_340000_G.pth\n",
        "!wget --no-check-certificate \"https://de-next.owncube.com/index.php/s/x99pKzS7TNaErrC/download\" -O /content/Colab-ESRGAN/models/4x_fatal_Anime_500000_G.pth\n",
        "!wget --no-check-certificate \"https://de-next.owncube.com/index.php/s/w82HLrLWmWi4SQ5/download\" -O /content/Colab-ESRGAN/models/1x_DeJpeg_Fatality_PlusULTRA_200000_G.pth\n",
        "!mkdir /content/Colab-ESRGAN/input/\n",
        "!mkdir /content/Colab-ESRGAN/output/\n",
        "%cd  /content/Colab-ESRGAN/"
      ],
      "execution_count": null,
      "outputs": []
    },
    {
      "cell_type": "markdown",
      "metadata": {
        "id": "W19Zu9m8WSGT"
      },
      "source": [
        "If you want to use the 7z GUI, here is how you do it. With the 7z GUI you can create a .tar, then create a new archive with only that file and select \"gzip\". You need to create an archive twice. The final file should be data.tar.gz. You can change between .tar/.tar.gz in the paths. If .tar.gz is used, then compression is applied."
      ]
    },
    {
      "cell_type": "code",
      "metadata": {
        "id": "S7l7rKH1yYTp",
        "cellView": "form"
      },
      "source": [
        "#@title Downloading ```data.tar.gz``` from Google Drive and extracting it.\n",
        "!cp \"/content/drive/My Drive/Colab-ESRGAN/input/data.tar.gz\" /content/Colab-ESRGAN/input/data.tar.gz\n",
        "!tar -C /content/Colab-ESRGAN/input/ -zxvf /content/Colab-ESRGAN/input/data.tar.gz\n",
        "!sudo rm -rf /content/Colab-ESRGAN/input/data.tar.gz\n",
        "%cd /content/Colab-ESRGAN"
      ],
      "execution_count": null,
      "outputs": []
    },
    {
      "cell_type": "code",
      "metadata": {
        "id": "oIIkqYdM5JzQ",
        "cellView": "form"
      },
      "source": [
        "#@title Downloading ```data.tar``` from Google Drive and extracting it.\n",
        "!cp \"/content/drive/My Drive/Colab-ESRGAN/input/data.tar\" /content/Colab-ESRGAN/input/data.tar\n",
        "!tar -C /content/ESRGAN/input -xvf /content/Colab-ESRGAN/input/data.tar\n",
        "!sudo rm -rf /content/Colab-ESRGAN/input/data.tar"
      ],
      "execution_count": null,
      "outputs": []
    },
    {
      "cell_type": "markdown",
      "metadata": {
        "id": "cCt-G7EX1zNh"
      },
      "source": [
        "```Important: Default tilesize is 512.```\n",
        "\n",
        "Available default models:\n",
        "- RRDB_ESRGAN_x4.pth (old-arch)\n",
        "- RRDB_PSNR_x4.pth (old-arch)\n",
        "- 4x_FatalPixels_340000_G.pth\n",
        "- 4x_fatal_Anime_500000_G.pth\n",
        "- 1x_DeJpeg_Fatality_PlusULTRA_200000_G.pth"
      ]
    },
    {
      "cell_type": "code",
      "metadata": {
        "id": "B_QzXxFxQCWB"
      },
      "source": [
        "# example usage with 1x_DeJpeg_Fatality_PlusULTRA_200000_G.pth\n",
        "%cd /content/Colab-ESRGAN\n",
        "!python main.py input/ output/ --model models/1x_DeJpeg_Fatality_PlusULTRA_200000_G.pth"
      ],
      "execution_count": null,
      "outputs": []
    },
    {
      "cell_type": "code",
      "metadata": {
        "id": "APtFtSHDZp6q"
      },
      "source": [
        "# example usage with custom tilesize\n",
        "%cd /content/Colab-ESRGAN\n",
        "!python main.py input/ output/ --model models/1x_DeJpeg_Fatality_PlusULTRA_200000_G.pth --tilesize 500"
      ],
      "execution_count": null,
      "outputs": []
    },
    {
      "cell_type": "code",
      "metadata": {
        "id": "AMqu2m7YX4NJ"
      },
      "source": [
        "# example for model interpolation\n",
        "%cd /content/Colab-ESRGAN\n",
        "!python main.py input/ output/ --model models/4x_FatalPixels_340000_G.pth:25:models/4x_fatal_Anime_500000_G.pth:75"
      ],
      "execution_count": null,
      "outputs": []
    },
    {
      "cell_type": "code",
      "metadata": {
        "id": "u9_RmtIm5igc"
      },
      "source": [
        "# using 2 models at the same time (multiple output, not combined)\n",
        "# example usage with 1x_DeJpeg_Fatality_PlusULTRA_200000_G.pth and RRDB_ESRGAN_x4.pth\n",
        "%cd /content/Colab-ESRGAN\n",
        "!python main.py input/ output/ --model models/1x_DeJpeg_Fatality_PlusULTRA_200000_G.pth --model models/RRDB_ESRGAN_x4.pth"
      ],
      "execution_count": null,
      "outputs": []
    },
    {
      "cell_type": "code",
      "metadata": {
        "id": "bzMol6-q6rfv"
      },
      "source": [
        "# example for model chaining\n",
        "# using 1x_DeJpeg_Fatality_PlusULTRA_200000_G.pth and then RRDB_ESRGAN_x4.pth\n",
        "%cd /content/Colab-ESRGAN\n",
        "!python main.py input output --prefilter models/1x_DeJpeg_Fatality_PlusULTRA_200000_G.pth --model models/RRDB_ESRGAN_x4.pth"
      ],
      "execution_count": null,
      "outputs": []
    },
    {
      "cell_type": "code",
      "metadata": {
        "cellView": "form",
        "id": "VAhTo717dZ-q"
      },
      "source": [
        "#@title download/install oxipng and imagemagick\n",
        "!wget \"https://github.com/shssoichiro/oxipng/releases/download/v4.0.3/oxipng-4.0.3-x86_64-unknown-linux-musl.tar.gz\"\n",
        "!7z x /content/oxipng-4.0.3-x86_64-unknown-linux-musl.tar.gz\n",
        "!7z x /content/oxipng-4.0.3-x86_64-unknown-linux-musl.tar\n",
        "!chmod +x /content/oxipng-4.0.3-x86_64-unknown-linux-musl/oxipng\n",
        "\n",
        "!sudo apt-get install imagemagick"
      ],
      "execution_count": null,
      "outputs": []
    },
    {
      "cell_type": "code",
      "metadata": {
        "id": "8kxg8cENQEVC",
        "cellView": "form"
      },
      "source": [
        "#@title Resize pictures in results in ```/output```\n",
        "!find \"/content/Colab-ESRGAN/output\" -name '*.png' -exec mogrify -resize 50% {} +"
      ],
      "execution_count": null,
      "outputs": []
    },
    {
      "cell_type": "code",
      "metadata": {
        "id": "FdXjkwqzMGiO",
        "cellView": "form"
      },
      "source": [
        "#@title making ```/output``` losslessly smaller with oxipng\n",
        "!find /content/Colab-ESRGAN/output -name '*.png' -exec /content/oxipng-4.0.3-x86_64-unknown-linux-musl/oxipng -o 4 --strip all {} +"
      ],
      "execution_count": null,
      "outputs": []
    },
    {
      "cell_type": "markdown",
      "metadata": {
        "id": "Xgp5d1g6Wx05"
      },
      "source": [
        "The final result will be in ```/Google Drive/ESRGAN/results```. You can change between .tar/.tar.gz in the last two lines. If .tar.gz is used, then compression is applied."
      ]
    },
    {
      "cell_type": "code",
      "metadata": {
        "id": "Nf_BJg9EzNyW",
        "cellView": "form"
      },
      "source": [
        "#@title Create archive and copy back archive to Google Drive\n",
        "!mkdir \"/content/drive/My Drive/Colab-ESRGAN/output\"\n",
        "!tar -cvf /content/output.tar.gz /content/Colab-ESRGAN/output\n",
        "!cp /content/output.tar.gz \"/content/drive/My Drive/Colab-ESRGAN/output/output.tar.gz\""
      ],
      "execution_count": null,
      "outputs": []
    }
  ]
}
