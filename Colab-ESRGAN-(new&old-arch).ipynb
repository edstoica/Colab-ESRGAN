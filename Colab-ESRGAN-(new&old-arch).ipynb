{
  "nbformat": 4,
  "nbformat_minor": 0,
  "metadata": {
    "colab": {
      "name": "Colab-ESRGAN-(new&old-arch).ipynb",
      "provenance": [],
      "private_outputs": true,
      "collapsed_sections": [],
      "toc_visible": true
    },
    "kernelspec": {
      "name": "python3",
      "display_name": "Python 3"
    },
    "accelerator": "GPU"
  },
  "cells": [
    {
      "cell_type": "markdown",
      "metadata": {
        "id": "T3wGB80dBZMe",
        "colab_type": "text"
      },
      "source": [
        "Original Colab file created by shahidul56 can be found [here](https://github.com/xinntao/ESRGAN/pull/22) and [here](https://colab.research.google.com/github/shahidul56/ESRGAN/blob/master/ESRGAN.ipynb). This also uses modifications from [here](https://github.com/ata4/esrgan-launcher). Big thanks to [ata4](https://github.com/ata4).\n",
        "\n",
        "This is a modification by styler00dollar aka \"sudo rm -rf / --no-preserve-root#8353\" on discord. Compared to the original notebook, this notebook does:\n",
        "- use esrgan-launcher by ata4\n",
        "  - can use old and new arch\n",
        "  - have compatibility with different scales (automatic detection)\n",
        "- include less gdrive code (only 1 authorization code instead of 2)\n",
        "- include comments\n",
        "- include a custom model examples\n",
        "  - further examples can be found [here](https://github.com/ata4/esrgan-launcher)\n",
        "\n",
        "ESRGAN tutorials and custom models can be found in this [wiki page](https://upscale.wiki/wiki/Main_Page).\n",
        "\n",
        "Brief Google Colab instructions:\n",
        "- Run cells with these play-buttons that are visible on the left side of the code/text. ```[ ]``` indicate a play-button. Or press ```shift + enter``` while you are inside a cell.\n",
        "- Run the needed cells in the correct order. (up to down)\n",
        "- Follow the provided instructions in these commands.\n",
        "- You don't need to change anything. The only thing that probably needs to be changed are the parameter for the main.py file. Examples are provided.\n",
        "\n",
        "I personally recommend fatal anime and fatal pixels for drawn art. Models by twittman and can be manually downloaded [here](https://de-next.owncube.com/index.php/s/x99pKzS7TNaErrC) and [here](https://de-next.owncube.com/index.php/s/mDGmi7NgdyyQRXL).\n",
        "\n",
        "I also included a [1x DeJPEG model for jpg compression](https://de-next.owncube.com/index.php/s/w82HLrLWmWi4SQ5). Also made by twittman.\n",
        "\n",
        "Here an [imgur example with fatal pixels](https://imgur.com/a/Eeirogg) and [here one with fatal anime](https://imgur.com/a/yhA21GC). Currently too lazy to do a proper comparison."
      ]
    },
    {
      "cell_type": "code",
      "metadata": {
        "id": "--dIWjjM-4-w",
        "colab_type": "code",
        "colab": {}
      },
      "source": [
        "# Check your GPU and your VRAM\n",
        "!nvidia-smi"
      ],
      "execution_count": null,
      "outputs": []
    },
    {
      "cell_type": "code",
      "metadata": {
        "id": "7wPj3OqiHkd3",
        "colab_type": "code",
        "colab": {}
      },
      "source": [
        "# Connect Google Drive\n",
        "from google.colab import drive\n",
        "drive.mount('/content/drive')\n",
        "print('Google Drive connected.')"
      ],
      "execution_count": null,
      "outputs": []
    },
    {
      "cell_type": "markdown",
      "metadata": {
        "id": "uDMtoHBfvHmi",
        "colab_type": "text"
      },
      "source": [
        "# Google Drive Code with individual transfer of images\n",
        "\n",
        "```WARNING for users that used some of my old versions:``` This uses new code. The new code needs to be re-downloaded.\n",
        "\n",
        "The notebook is splitted in two parts. One that works with Google Drive and one that works locally on Colab. If you have many files, then it is recommended to run ESRGAN within Colab and to transfer images with one .tar/.tar.gz archive. The following cells are primarily for convenience."
      ]
    },
    {
      "cell_type": "code",
      "metadata": {
        "id": "k1ACFjBbrwz0",
        "colab_type": "code",
        "colab": {}
      },
      "source": [
        "# ONLY RUN THIS ONCE, IF YOU DONT HAVE ESRGAN (old-arch) IN YOUR GOOGLE DRIVE\n",
        "# Running this while you already have a folder named ESRGAN in your Google Drive will give you an error.\n",
        "%cd \"/content/drive/My Drive\"\n",
        "!pip install tqdm\n",
        "!git clone https://github.com/styler00dollar/Colab-ESRGAN.git\n",
        "!mkdir \"/content/drive/My Drive/Colab-ESRGAN/input/\"\n",
        "!mkdir \"/content/drive/My Drive/Colab-ESRGAN/output/\"\n",
        "!mkdir \"/content/drive/My Drive/Colab-ESRGAN/models/\"\n",
        "%cd \"/content/drive/My Drive/Colab-ESRGAN\""
      ],
      "execution_count": null,
      "outputs": []
    },
    {
      "cell_type": "markdown",
      "metadata": {
        "id": "i_XJiZRbL5uI",
        "colab_type": "text"
      },
      "source": [
        "You can use these 2 boxes to download models directly into your Google Drive. You can either add code or add models manually, by adding models into ```Google Drive/ESRGAN/models```. If you plan on doing so, then you need to specify the correct model in the last command."
      ]
    },
    {
      "cell_type": "code",
      "metadata": {
        "id": "Zj2N-IHX67Ln",
        "colab_type": "code",
        "colab": {}
      },
      "source": [
        "# ONLY RUN THIS ONCE AFTER DOWNLOADING ESRGAN, if you want to add official models into your Google Drive\n",
        "%cd \"/content/drive/My Drive/Colab-ESRGAN\"\n",
        "!wget --no-check-certificate 'https://docs.google.com/uc?export=download&id=1MJFgqXJrMkPdKtiuy7C6xfsU1QIbXEb-' -O models/RRDB_ESRGAN_x4.pth\n",
        "!wget --no-check-certificate 'https://docs.google.com/uc?export=download&id=1mSJ6Z40weL-dnPvi390xDd3uZBCFMeqr' -O models/RRDB_PSNR_x4.pth"
      ],
      "execution_count": null,
      "outputs": []
    },
    {
      "cell_type": "code",
      "metadata": {
        "id": "ZjtcywTW0dKy",
        "colab_type": "code",
        "colab": {}
      },
      "source": [
        "# ONLY RUN THIS ONCE AFTER DOWNLOADING ESRGAN, if you want to add the recommended fatal anime model into your Google Drive. (Model made by twittman.)\n",
        "%cd \"/content/drive/My Drive/Colab-ESRGAN\"\n",
        "!wget --no-check-certificate \"https://de-next.owncube.com/index.php/s/x99pKzS7TNaErrC/download\" -O models/4x_fatal_Anime_500000_G.pth"
      ],
      "execution_count": null,
      "outputs": []
    },
    {
      "cell_type": "code",
      "metadata": {
        "id": "Irj6v_VBrEAW",
        "colab_type": "code",
        "colab": {}
      },
      "source": [
        "# ONLY RUN THIS ONCE AFTER DOWNLOADING ESRGAN, if you want to add the recommended fatal pixels model into your Google Drive. (Model made by twittman.)\n",
        "%cd \"/content/drive/My Drive/Colab-ESRGAN\"\n",
        "!wget --no-check-certificate \"https://de-next.owncube.com/index.php/s/mDGmi7NgdyyQRXL/download?path=%2F&files=4x_FatalPixels_340000_G.pth&downloadStartSecret=r4q3aw60ijm\" -O models/4x_FatalPixels_340000_G.pth"
      ],
      "execution_count": null,
      "outputs": []
    },
    {
      "cell_type": "code",
      "metadata": {
        "id": "W-M2MOEeEw9R",
        "colab_type": "code",
        "colab": {}
      },
      "source": [
        "# ONLY RUN THIS ONCE AFTER DOWNLOADING ESRGAN, if you want to add the recommended DeJPEG model into your Google Drive. (Model made by twittman.)\n",
        "%cd \"/content/drive/My Drive/Colab-ESRGAN\"\n",
        "!wget --no-check-certificate \"https://de-next.owncube.com/index.php/s/w82HLrLWmWi4SQ5/download\" -O models/1x_DeJpeg_Fatality_PlusULTRA_200000_G.pth"
      ],
      "execution_count": null,
      "outputs": []
    },
    {
      "cell_type": "markdown",
      "metadata": {
        "id": "APJmRf1PJ63q",
        "colab_type": "text"
      },
      "source": [
        "```Important: Default tilesize is 512.```\n",
        "\n",
        "Available default models (if you downloaded them all):\n",
        "- RRDB_ESRGAN_x4.pth (old-arch)\n",
        "- RRDB_PSNR_x4.pth (old-arch)\n",
        "- 4x_FatalPixels_340000_G.pth\n",
        "- 4x_fatal_Anime_500000_G.pth\n",
        "- 1x_DeJpeg_Fatality_PlusULTRA_200000_G.pth"
      ]
    },
    {
      "cell_type": "code",
      "metadata": {
        "id": "P331xaYjss1w",
        "colab_type": "code",
        "colab": {}
      },
      "source": [
        "# example usage with 1x_DeJpeg_Fatality_PlusULTRA_200000_G.pth\n",
        "!python main.py input/ output/ --device cuda --model models/1x_DeJpeg_Fatality_PlusULTRA_200000_G.pth"
      ],
      "execution_count": null,
      "outputs": []
    },
    {
      "cell_type": "code",
      "metadata": {
        "id": "gdlVu92jbnUp",
        "colab_type": "code",
        "colab": {}
      },
      "source": [
        "# example usage with custom tilesize\n",
        "# recommended tilesize for 16GB and 1x: --tilesize 1600\n",
        "# recommended tilesize for 16GB and 4x: --tilesize 2000\n",
        "!python main.py input/ output/ --device cuda --model models/1x_DeJpeg_Fatality_PlusULTRA_200000_G.pth --tilesize 600"
      ],
      "execution_count": null,
      "outputs": []
    },
    {
      "cell_type": "code",
      "metadata": {
        "id": "Z14u4E7p9rRp",
        "colab_type": "code",
        "colab": {}
      },
      "source": [
        "# example for model interpolation\n",
        "# recommended tilesize for 16GB and an interpolated 4x model: --tilesize 2000\n",
        "!python main.py input/ output/ --device cuda --model models/4x_FatalPixels_340000_G.pth:25:models/4x_fatal_Anime_500000_G.pth:75"
      ],
      "execution_count": null,
      "outputs": []
    },
    {
      "cell_type": "code",
      "metadata": {
        "id": "9eYb-XSPBqQ5",
        "colab_type": "code",
        "colab": {}
      },
      "source": [
        "# using 2 models at the same time (multiple output, not combined)\n",
        "# example usage with 1x_DeJpeg_Fatality_PlusULTRA_200000_G.pth and RRDB_ESRGAN_x4.pth\n",
        "# recommended tilesize for 16GB and 1x + 4x output: --tilesize 1600\n",
        "!python main.py input/ output/ --device cuda --model models/1x_DeJpeg_Fatality_PlusULTRA_200000_G.pth --model models/RRDB_ESRGAN_x4.pth"
      ],
      "execution_count": null,
      "outputs": []
    },
    {
      "cell_type": "code",
      "metadata": {
        "id": "LJ1bmwhIFEye",
        "colab_type": "code",
        "colab": {}
      },
      "source": [
        "# example for model chaining\n",
        "# using 1x_DeJpeg_Fatality_PlusULTRA_200000_G.pth and then RRDB_ESRGAN_x4.pth\n",
        "# recommended tilesize for 16GB and 1x + 4x model chaining: --tilesize 1600\n",
        "!python main.py input output --device cuda --prefilter models/1x_DeJpeg_Fatality_PlusULTRA_200000_G.pth --model models/RRDB_ESRGAN_x4.pth"
      ],
      "execution_count": null,
      "outputs": []
    },
    {
      "cell_type": "code",
      "metadata": {
        "id": "aQa8JD4Tdesm",
        "colab_type": "code",
        "colab": {}
      },
      "source": [
        "# install imagemagick and cargo/oxipng to make files smaller\n",
        "!sudo apt-get install imagemagick\n",
        "!sudo apt-get install -y cargo\n",
        "!cargo install oxipng"
      ],
      "execution_count": null,
      "outputs": []
    },
    {
      "cell_type": "code",
      "metadata": {
        "id": "yF6rjw27dsKo",
        "colab_type": "code",
        "colab": {}
      },
      "source": [
        "# resize pictures in results in /output\n",
        "!find \"/content/drive/My Drive/Colab-ESRGAN/output\" -name '*.png' -exec mogrify -resize 50% {} +"
      ],
      "execution_count": null,
      "outputs": []
    },
    {
      "cell_type": "code",
      "metadata": {
        "id": "W4XKw9m5duyk",
        "colab_type": "code",
        "colab": {}
      },
      "source": [
        "# making output losslessly smaller with oxipng in /output\n",
        "!find \"/content/drive/My Drive/Colab-ESRGAN/output\" -name '*.png' -exec /root/.cargo/bin/oxipng -o 4 --strip all {} +"
      ],
      "execution_count": null,
      "outputs": []
    },
    {
      "cell_type": "markdown",
      "metadata": {
        "id": "vWD8ix4owA9_",
        "colab_type": "text"
      },
      "source": [
        "# Running ESRGAN within Colab and transferring data with archives\n",
        "\n",
        "If you plan on upscaling many files, this is the better choice.\n",
        "\n",
        "Put your ```data.tar/.tar.gz``` file in ```/Google Drive/ESRGAN/input/```. The result will be in  ```/Google Drive/ESRGAN/output/```\n",
        "\n",
        "You can comment out wget commands for faster speed."
      ]
    },
    {
      "cell_type": "code",
      "metadata": {
        "id": "iE4Gm1RWwAgA",
        "colab_type": "code",
        "colab": {}
      },
      "source": [
        "%cd /content/\n",
        "!pip install tqdm\n",
        "!git clone https://github.com/styler00dollar/Colab-ESRGAN.git\n",
        "!mkdir /content/Colab-ESRGAN/models/\n",
        "!wget --no-check-certificate 'https://docs.google.com/uc?export=download&id=1MJFgqXJrMkPdKtiuy7C6xfsU1QIbXEb-' -O /content/Colab-ESRGAN/models/RRDB_ESRGAN_x4.pth\n",
        "!wget --no-check-certificate 'https://docs.google.com/uc?export=download&id=1mSJ6Z40weL-dnPvi390xDd3uZBCFMeqr' -O /content/Colab-ESRGAN/models/RRDB_PSNR_x4.pth\n",
        "!wget --no-check-certificate \"https://de-next.owncube.com/index.php/s/mDGmi7NgdyyQRXL/download?path=%2F&files=4x_FatalPixels_340000_G.pth&downloadStartSecret=r4q3aw60ijm\" -O /content/Colab-ESRGAN/models/4x_FatalPixels_340000_G.pth\n",
        "!wget --no-check-certificate \"https://de-next.owncube.com/index.php/s/x99pKzS7TNaErrC/download\" -O /content/Colab-ESRGAN/models/4x_fatal_Anime_500000_G.pth\n",
        "!wget --no-check-certificate \"https://de-next.owncube.com/index.php/s/w82HLrLWmWi4SQ5/download\" -O /content/Colab-ESRGAN/models/1x_DeJpeg_Fatality_PlusULTRA_200000_G.pth\n",
        "!mkdir /content/Colab-ESRGAN/input/\n",
        "!mkdir /content/Colab-ESRGAN/output/\n",
        "%cd  /content/Colab-ESRGAN/\n",
        "# installing imagemagick and cargo/oxipng\n",
        "# you can remove these lines if you don't want to resize / apply lossless compression\n",
        "!sudo apt-get install imagemagick\n",
        "!sudo apt-get install -y cargo\n",
        "!cargo install oxipng"
      ],
      "execution_count": null,
      "outputs": []
    },
    {
      "cell_type": "code",
      "metadata": {
        "id": "S7l7rKH1yYTp",
        "colab_type": "code",
        "colab": {}
      },
      "source": [
        "# Downloading .tar.gz from Google Drive and extracting it.\n",
        "# If you want to use the 7z GUI, here is how you do it. With the 7z GUI you can create a .tar, then create a new\n",
        "# archive with only that file and select \"gzip\". You need to create an archive twice. The final file should be\n",
        "# data.tar.gz. You can change between .tar/.tar.gz in the paths. If .tar.gz is used, then compression\n",
        "# is applied.\n",
        "!cp \"/content/drive/My Drive/Colab-ESRGAN/input/data.tar.gz\" /content/Colab-ESRGAN/input/data.tar.gz\n",
        "!tar -C /content/Colab-ESRGAN/input/ -zxvf /content/Colab-ESRGAN/input/data.tar.gz\n",
        "!sudo rm -rf /content/Colab-ESRGAN/input/data.tar.gz\n",
        "%cd /content/Colab-ESRGAN"
      ],
      "execution_count": null,
      "outputs": []
    },
    {
      "cell_type": "code",
      "metadata": {
        "id": "oIIkqYdM5JzQ",
        "colab_type": "code",
        "colab": {}
      },
      "source": [
        "# Copy and extract .tar\n",
        "!cp \"/content/drive/My Drive/Colab-ESRGAN/input/data.tar\" /content/Colab-ESRGAN/input/data.tar\n",
        "!tar -C /content/ESRGAN/input -xvf /content/Colab-ESRGAN/input/data.tar\n",
        "!sudo rm -rf /content/Colab-ESRGAN/input/data.tar"
      ],
      "execution_count": null,
      "outputs": []
    },
    {
      "cell_type": "markdown",
      "metadata": {
        "id": "cCt-G7EX1zNh",
        "colab_type": "text"
      },
      "source": [
        "```Important: Default tilesize is 512.```\n",
        "\n",
        "Available default models:\n",
        "- RRDB_ESRGAN_x4.pth (old-arch)\n",
        "- RRDB_PSNR_x4.pth (old-arch)\n",
        "- 4x_FatalPixels_340000_G.pth\n",
        "- 4x_fatal_Anime_500000_G.pth\n",
        "- 1x_DeJpeg_Fatality_PlusULTRA_200000_G.pth"
      ]
    },
    {
      "cell_type": "code",
      "metadata": {
        "id": "B_QzXxFxQCWB",
        "colab_type": "code",
        "colab": {}
      },
      "source": [
        "# example usage with 1x_DeJpeg_Fatality_PlusULTRA_200000_G.pth\n",
        "%cd /content/Colab-ESRGAN\n",
        "!python main.py input/ output/ --model models/1x_DeJpeg_Fatality_PlusULTRA_200000_G.pth"
      ],
      "execution_count": null,
      "outputs": []
    },
    {
      "cell_type": "code",
      "metadata": {
        "id": "APtFtSHDZp6q",
        "colab_type": "code",
        "colab": {}
      },
      "source": [
        "# example usage with custom tilesize\n",
        "%cd /content/Colab-ESRGAN\n",
        "!python main.py input/ output/ --model models/1x_DeJpeg_Fatality_PlusULTRA_200000_G.pth --tilesize 500"
      ],
      "execution_count": null,
      "outputs": []
    },
    {
      "cell_type": "code",
      "metadata": {
        "id": "AMqu2m7YX4NJ",
        "colab_type": "code",
        "colab": {}
      },
      "source": [
        "# example for model interpolation\n",
        "%cd /content/Colab-ESRGAN\n",
        "!python main.py input/ output/ --model models/4x_FatalPixels_340000_G.pth:25:models/4x_fatal_Anime_500000_G.pth:75"
      ],
      "execution_count": null,
      "outputs": []
    },
    {
      "cell_type": "code",
      "metadata": {
        "id": "u9_RmtIm5igc",
        "colab_type": "code",
        "colab": {}
      },
      "source": [
        "# using 2 models at the same time (multiple output, not combined)\n",
        "# example usage with 1x_DeJpeg_Fatality_PlusULTRA_200000_G.pth and RRDB_ESRGAN_x4.pth\n",
        "%cd /content/Colab-ESRGAN\n",
        "!python main.py input/ output/ --model models/1x_DeJpeg_Fatality_PlusULTRA_200000_G.pth --model models/RRDB_ESRGAN_x4.pth"
      ],
      "execution_count": null,
      "outputs": []
    },
    {
      "cell_type": "code",
      "metadata": {
        "id": "bzMol6-q6rfv",
        "colab_type": "code",
        "colab": {}
      },
      "source": [
        "# example for model chaining\n",
        "# using 1x_DeJpeg_Fatality_PlusULTRA_200000_G.pth and then RRDB_ESRGAN_x4.pth\n",
        "%cd /content/Colab-ESRGAN\n",
        "!python main.py input output --prefilter models/1x_DeJpeg_Fatality_PlusULTRA_200000_G.pth --model models/RRDB_ESRGAN_x4.pth"
      ],
      "execution_count": null,
      "outputs": []
    },
    {
      "cell_type": "code",
      "metadata": {
        "id": "8kxg8cENQEVC",
        "colab_type": "code",
        "colab": {}
      },
      "source": [
        "# resize pictures\n",
        "!find /content/Colab-ESRGAN/output -name '*.png' -exec mogrify -resize 50% {} +"
      ],
      "execution_count": null,
      "outputs": []
    },
    {
      "cell_type": "code",
      "metadata": {
        "id": "FdXjkwqzMGiO",
        "colab_type": "code",
        "colab": {}
      },
      "source": [
        "# making output losslessly smaller with oxipng\n",
        "!find /content/Colab-ESRGAN/output -name '*.png' -exec /root/.cargo/bin/oxipng -o 4 --strip all {} +"
      ],
      "execution_count": null,
      "outputs": []
    },
    {
      "cell_type": "code",
      "metadata": {
        "id": "Nf_BJg9EzNyW",
        "colab_type": "code",
        "colab": {}
      },
      "source": [
        "# Create archive and copy back archive to Google Drive. The final result will be in /Google Drive/ESRGAN/results.\n",
        "# You can change between .tar/.tar.gz in the last two lines. If .tar.gz is used, then compression is applied.\n",
        "!mkdir \"/content/drive/My Drive/Colab-ESRGAN/output\"\n",
        "!tar -cvf /content/output.tar.gz /content/Colab-ESRGAN/output\n",
        "!cp /content/output.tar.gz \"/content/drive/My Drive/Colab-ESRGAN/output/output.tar.gz\""
      ],
      "execution_count": null,
      "outputs": []
    }
  ]
}
